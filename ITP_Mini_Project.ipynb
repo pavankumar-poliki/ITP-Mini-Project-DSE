{
 "cells": [
  {
   "cell_type": "markdown",
   "id": "31d36999",
   "metadata": {},
   "source": [
    "## Q1. Create a Dictionary of lists to store the information of shipments given in the table"
   ]
  },
  {
   "cell_type": "code",
   "execution_count": 1,
   "id": "59ffa2ad",
   "metadata": {},
   "outputs": [
    {
     "data": {
      "text/plain": [
       "{101: [1, 3, '14-03-2020', '25-03-2020', 'Area1', 'Area6', 'Delivered', 198],\n",
       " 102: [4, 1, '18-06-2020', '09-07-2020', 'Area2', 'Area4', 'Delivered', 275],\n",
       " 103: [2, 3, '01-12-2020', 'Null', 'Area5', 'Area1', 'In-Transit', 200],\n",
       " 104: [1, 5, '23-06-2020', '25-06-2020', 'Area1', 'Area4', 'Delivered', 314],\n",
       " 105: [3, 4, '29-08-2020', '10-09-2020', 'Area5', 'Area3', 'Delivered', 275],\n",
       " 106: [5, 2, '28-06-2020', 'Null', 'Area3', 'Area1', 'In-Transit', 270]}"
      ]
     },
     "execution_count": 1,
     "metadata": {},
     "output_type": "execute_result"
    }
   ],
   "source": [
    "shipment_dic = {101 : [1, 3, '14-03-2020', '25-03-2020','Area1','Area6', 'Delivered',198], \n",
    "                102 : [4, 1, '18-06-2020', '09-07-2020','Area2','Area4', 'Delivered',275],\n",
    "                103 : [2, 3, '01-12-2020', 'Null','Area5','Area1', 'In-Transit',200],\n",
    "                104 : [1, 5, '23-06-2020', '25-06-2020','Area1','Area4', 'Delivered',314],\n",
    "                105 : [3, 4, '29-08-2020', '10-09-2020','Area5','Area3', 'Delivered',275],\n",
    "                106 : [5, 2, '28-06-2020', 'Null','Area3','Area1', 'In-Transit',270]}\n",
    "shipment_dic"
   ]
  },
  {
   "cell_type": "markdown",
   "id": "0d0da550",
   "metadata": {},
   "source": [
    "## Q2. Create a Dictionary of to store the information of clients given in the table."
   ]
  },
  {
   "cell_type": "code",
   "execution_count": 2,
   "id": "953fae0a",
   "metadata": {},
   "outputs": [
    {
     "name": "stdout",
     "output_type": "stream",
     "text": [
      "{1: 'Phillip', 2: 'Omega III', 3: 'Ramya', 4: 'Romesh', 5: 'John'}\n"
     ]
    }
   ],
   "source": [
    "client_dic = {1:\"Phillip\",2:\"Omega III\",3:\"Ramya\",4:\"Romesh\",5:\"John\"}\n",
    "print(client_dic)"
   ]
  },
  {
   "cell_type": "markdown",
   "id": "8caff17a",
   "metadata": {},
   "source": [
    "## Q3. Write a code to replace client’s id with their respective name in shipment dictionary using a loop and dictionary comprehension"
   ]
  },
  {
   "cell_type": "code",
   "execution_count": 3,
   "id": "51c8ea2c",
   "metadata": {},
   "outputs": [
    {
     "name": "stdout",
     "output_type": "stream",
     "text": [
      "{101: ['Phillip', 'Ramya', '14-03-2020', '25-03-2020', 'Area1', 'Area6', 'Delivered', 198], 102: ['Romesh', 'Phillip', '18-06-2020', '09-07-2020', 'Area2', 'Area4', 'Delivered', 275], 103: ['Omega III', 'Ramya', '01-12-2020', 'Null', 'Area5', 'Area1', 'In-Transit', 200], 104: ['Phillip', 'John', '23-06-2020', '25-06-2020', 'Area1', 'Area4', 'Delivered', 314], 105: ['Ramya', 'Romesh', '29-08-2020', '10-09-2020', 'Area5', 'Area3', 'Delivered', 275], 106: ['John', 'Omega III', '28-06-2020', 'Null', 'Area3', 'Area1', 'In-Transit', 270]}\n"
     ]
    }
   ],
   "source": [
    "shipments = {key: [client_dic[x] if (idx == 0 or idx == 1) else x for (idx ,x) in enumerate(value)] for key,value \n",
    "             in shipment_dic.items()}\n",
    "print(shipments)"
   ]
  },
  {
   "cell_type": "markdown",
   "id": "25f20693",
   "metadata": {},
   "source": [
    "## Q4. Print all shipment details that are sent by Phillip"
   ]
  },
  {
   "cell_type": "code",
   "execution_count": 4,
   "id": "d9133d57",
   "metadata": {},
   "outputs": [
    {
     "name": "stdout",
     "output_type": "stream",
     "text": [
      "[['Phillip', 'Ramya', '14-03-2020', '25-03-2020', 'Area1', 'Area6', 'Delivered', 198], ['Phillip', 'John', '23-06-2020', '25-06-2020', 'Area1', 'Area4', 'Delivered', 314]]\n"
     ]
    }
   ],
   "source": [
    "details = list(filter(lambda x:x[0]=='Phillip' , shipments.values()))\n",
    "print(details)"
   ]
  },
  {
   "cell_type": "markdown",
   "id": "950eac90",
   "metadata": {},
   "source": [
    "## Q5. Print all shipment details that are received by Ramya"
   ]
  },
  {
   "cell_type": "code",
   "execution_count": 5,
   "id": "7d839659",
   "metadata": {},
   "outputs": [
    {
     "name": "stdout",
     "output_type": "stream",
     "text": [
      "[['Phillip', 'Ramya', '14-03-2020', '25-03-2020', 'Area1', 'Area6', 'Delivered', 198], ['Omega III', 'Ramya', '01-12-2020', 'Null', 'Area5', 'Area1', 'In-Transit', 200]]\n"
     ]
    }
   ],
   "source": [
    "Ramya = list(filter(lambda x:x[1]=='Ramya',shipments.values()))\n",
    "print(Ramya)"
   ]
  },
  {
   "cell_type": "markdown",
   "id": "b125e80f",
   "metadata": {},
   "source": [
    "## Q6. Print all shipments which are in 'In-Transit' status"
   ]
  },
  {
   "cell_type": "code",
   "execution_count": 6,
   "id": "fab1edc0",
   "metadata": {},
   "outputs": [
    {
     "name": "stdout",
     "output_type": "stream",
     "text": [
      "[['Omega III', 'Ramya', '01-12-2020', 'Null', 'Area5', 'Area1', 'In-Transit', 200], ['John', 'Omega III', '28-06-2020', 'Null', 'Area3', 'Area1', 'In-Transit', 270]]\n"
     ]
    }
   ],
   "source": [
    "Delivery_status = list(filter(lambda x:x[-2]=='In-Transit',shipments.values()))\n",
    "print(Delivery_status)"
   ]
  },
  {
   "cell_type": "markdown",
   "id": "fb3f9a27",
   "metadata": {},
   "source": [
    "## Q7. Print all shipments which are delivered within 7 days of courier Start date"
   ]
  },
  {
   "cell_type": "code",
   "execution_count": 7,
   "id": "fe231c05",
   "metadata": {},
   "outputs": [
    {
     "name": "stdout",
     "output_type": "stream",
     "text": [
      "['Phillip', 'John', '23-06-2020', '25-06-2020', 'Area1', 'Area4', 'Delivered', 314]\n"
     ]
    }
   ],
   "source": [
    "from datetime import datetime \n",
    "\n",
    "for i in shipments.values():\n",
    "    if i[3] == 'Null':\n",
    "        continue\n",
    "        \n",
    "    start = datetime.strptime(i[2], '%d-%m-%Y')\n",
    "    delivery = datetime.strptime(i[3],'%d-%m-%Y')\n",
    "    \n",
    "    if (delivery - start).days <= 7:\n",
    "        print(i)\n",
    "        "
   ]
  },
  {
   "cell_type": "markdown",
   "id": "10ec72de",
   "metadata": {},
   "source": [
    "## Q8. Print all shipments which are delivered after 15 days of courier start date or not yet been delivered."
   ]
  },
  {
   "cell_type": "code",
   "execution_count": 8,
   "id": "9a2e5c06",
   "metadata": {},
   "outputs": [
    {
     "name": "stdout",
     "output_type": "stream",
     "text": [
      "['Romesh', 'Phillip', '18-06-2020', '09-07-2020', 'Area2', 'Area4', 'Delivered', 275]\n",
      "['Omega III', 'Ramya', '01-12-2020', 'Null', 'Area5', 'Area1', 'In-Transit', 200]\n",
      "['John', 'Omega III', '28-06-2020', 'Null', 'Area3', 'Area1', 'In-Transit', 270]\n"
     ]
    }
   ],
   "source": [
    "from datetime import datetime \n",
    "\n",
    "for i in shipments.values():\n",
    "    if i[3] == 'Null':\n",
    "        print(i)\n",
    "        continue\n",
    "        \n",
    "    start = datetime.strptime(i[2], '%d-%m-%Y')\n",
    "    delivery = datetime.strptime(i[3],'%d-%m-%Y')\n",
    "    \n",
    "    if (delivery - start).days > 15:\n",
    "        print(i)"
   ]
  },
  {
   "cell_type": "markdown",
   "id": "68e260c7",
   "metadata": {},
   "source": [
    "## Q 9. Write a function find_all_routes to display all possible routes from senders location to receivers location given in the dictionary for each shipment."
   ]
  },
  {
   "cell_type": "code",
   "execution_count": 9,
   "id": "49720313",
   "metadata": {},
   "outputs": [
    {
     "name": "stdout",
     "output_type": "stream",
     "text": [
      "[1, 2, 3, 4, 5]\n",
      "[1, 2, 4, 5]\n"
     ]
    }
   ],
   "source": [
    "matrix =[[0,1,0,0,0,1],[1,0,1,1,0,0],[0,1,0,1,0,0],[0,1,1,0,1,0],[0,0,0,1,0,0],[1,0,0,0,0,0]]\n",
    "visited = [False for i in range(6)]\n",
    "path = []\n",
    "\n",
    "def find_all_routes(matrix,s,r,visited,path):\n",
    "    u = s - 1\n",
    "    d = r - 1\n",
    "    visited[u] = True\n",
    "    path.append(u+1)\n",
    "    \n",
    "    if u == d:\n",
    "        print(path)\n",
    "    else:\n",
    "        for i in range(6):\n",
    "            if (matrix[u][i] == 1) and (visited[i] == False):\n",
    "                find_all_routes(matrix,i+1,r,visited,path)\n",
    "    path.pop()\n",
    "    visited[u] = False\n",
    "    \n",
    "find_all_routes(matrix,1,5,visited,path)"
   ]
  }
 ],
 "metadata": {
  "kernelspec": {
   "display_name": "Python 3",
   "language": "python",
   "name": "python3"
  },
  "language_info": {
   "codemirror_mode": {
    "name": "ipython",
    "version": 3
   },
   "file_extension": ".py",
   "mimetype": "text/x-python",
   "name": "python",
   "nbconvert_exporter": "python",
   "pygments_lexer": "ipython3",
   "version": "3.8.8"
  }
 },
 "nbformat": 4,
 "nbformat_minor": 5
}
